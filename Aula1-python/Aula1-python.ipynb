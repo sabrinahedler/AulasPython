{
 "cells": [
  {
   "cell_type": "markdown",
   "id": "eb0f4b79-d051-4f22-b244-7f55b65ce125",
   "metadata": {},
   "source": [
    "# Primeira aula"
   ]
  },
  {
   "cell_type": "markdown",
   "id": "802b8742-1ffd-41fb-ad4e-6191e9d59c74",
   "metadata": {},
   "source": [
    "### Mostrando informações para o usuário"
   ]
  },
  {
   "cell_type": "code",
   "execution_count": 3,
   "id": "2c8b7814-2056-4053-b541-304e8abd8700",
   "metadata": {},
   "outputs": [
    {
     "name": "stdout",
     "output_type": "stream",
     "text": [
      "Olá usuário!\n",
      "Meu nome é Sabrina\n",
      "Estou começando a aprender Python!\n"
     ]
    }
   ],
   "source": [
    "print(\"Olá usuário!\") \n",
    "print(\"Meu nome é Sabrina\")\n",
    "print(\"Estou começando a aprender Python!\")"
   ]
  },
  {
   "cell_type": "markdown",
   "id": "81f25a84-f0b6-4c5d-a17d-635927b1ad90",
   "metadata": {},
   "source": [
    "### Entrada de dados do usuário"
   ]
  },
  {
   "cell_type": "code",
   "execution_count": 5,
   "id": "03dd18fb-b7ca-45f0-8420-6b518af57c1a",
   "metadata": {},
   "outputs": [
    {
     "name": "stdin",
     "output_type": "stream",
     "text": [
      "Digite seu nome:  Sabrina\n",
      "Qual linguagem você está aprendendo?  Python\n"
     ]
    },
    {
     "data": {
      "text/plain": [
       "'Python'"
      ]
     },
     "execution_count": 5,
     "metadata": {},
     "output_type": "execute_result"
    }
   ],
   "source": [
    "input(\"Digite seu nome: \")\n",
    "input(\"Qual linguagem você está aprendendo? \")"
   ]
  },
  {
   "cell_type": "markdown",
   "id": "0e607fa0-5c10-4d95-a4b1-2f9e81cd0737",
   "metadata": {},
   "source": [
    "### Armazenando dados em uma variável"
   ]
  },
  {
   "cell_type": "code",
   "execution_count": 6,
   "id": "5a759ba0-2b95-4fb7-bf42-0c2eedd2cfcb",
   "metadata": {},
   "outputs": [],
   "source": [
    "nome = \"Sabrina\""
   ]
  },
  {
   "cell_type": "code",
   "execution_count": 7,
   "id": "efcc996a-4a23-4b8c-901e-3f70902e2a6d",
   "metadata": {},
   "outputs": [
    {
     "name": "stdout",
     "output_type": "stream",
     "text": [
      "Sabrina\n"
     ]
    }
   ],
   "source": [
    "print(nome)"
   ]
  },
  {
   "cell_type": "code",
   "execution_count": 8,
   "id": "94ab8794-2115-4be9-8bc6-3e1866930789",
   "metadata": {},
   "outputs": [
    {
     "name": "stdin",
     "output_type": "stream",
     "text": [
      "Digite a descrição do projeto:  Desenvolvimento Sistema Python\n",
      "Digite a quantidade de horas previstas:  200\n",
      "Digite o valor da hora trabalhada:  200\n",
      "Digite o prazo do projeto:  3 meses\n"
     ]
    }
   ],
   "source": [
    "projeto = input(\"Digite a descrição do projeto: \")\n",
    "horasPrevistas = input(\"Digite a quantidade de horas previstas: \")\n",
    "valorHora = input(\"Digite o valor da hora trabalhada: \")\n",
    "prazo = input(\"Digite o prazo do projeto: \")"
   ]
  },
  {
   "cell_type": "markdown",
   "id": "3f2cc455-b8e8-4a98-8105-d3e355d03796",
   "metadata": {},
   "source": [
    "### Realizando cálculos\n",
    "Valor total do projeto = horasPrevistas * valorHora"
   ]
  },
  {
   "cell_type": "code",
   "execution_count": 17,
   "id": "0107acad-231a-4ae8-9692-1b42bd478637",
   "metadata": {},
   "outputs": [],
   "source": [
    "valorTotal = int(valorHora) * int(horasPrevistas)"
   ]
  },
  {
   "cell_type": "code",
   "execution_count": 18,
   "id": "93a82c1b-d8ca-4836-9149-7bf6794182b4",
   "metadata": {},
   "outputs": [
    {
     "data": {
      "text/plain": [
       "40000"
      ]
     },
     "execution_count": 18,
     "metadata": {},
     "output_type": "execute_result"
    }
   ],
   "source": [
    "valorTotal"
   ]
  },
  {
   "cell_type": "markdown",
   "id": "b5899237-60f8-4231-b057-3d1dcc281f6f",
   "metadata": {},
   "source": [
    "### Tipos de dados\n",
    "- Textos: str\n",
    "- Números: int"
   ]
  },
  {
   "cell_type": "code",
   "execution_count": 14,
   "id": "0669df22-fec9-493d-8c31-2516a9644734",
   "metadata": {},
   "outputs": [
    {
     "data": {
      "text/plain": [
       "int"
      ]
     },
     "execution_count": 14,
     "metadata": {},
     "output_type": "execute_result"
    }
   ],
   "source": [
    "type(1500)"
   ]
  },
  {
   "cell_type": "code",
   "execution_count": 15,
   "id": "15ad5bd2-ce86-4139-8748-9ee1ed03be54",
   "metadata": {},
   "outputs": [
    {
     "data": {
      "text/plain": [
       "'10Sabrina'"
      ]
     },
     "execution_count": 15,
     "metadata": {},
     "output_type": "execute_result"
    }
   ],
   "source": [
    "\"10\" + \"Sabrina\""
   ]
  },
  {
   "cell_type": "markdown",
   "id": "0caf1110-c069-4a4a-b564-710460295b14",
   "metadata": {},
   "source": [
    "## Gerando PDF do Orçamento"
   ]
  },
  {
   "cell_type": "code",
   "execution_count": 19,
   "id": "040dd25b-60f0-427a-bdea-f5c12425aa3f",
   "metadata": {},
   "outputs": [
    {
     "name": "stdout",
     "output_type": "stream",
     "text": [
      "Collecting fpdf\n",
      "  Downloading fpdf-1.7.2.tar.gz (39 kB)\n",
      "  Preparing metadata (setup.py): started\n",
      "  Preparing metadata (setup.py): finished with status 'done'\n",
      "Building wheels for collected packages: fpdf\n",
      "  Building wheel for fpdf (setup.py): started\n",
      "  Building wheel for fpdf (setup.py): finished with status 'done'\n",
      "  Created wheel for fpdf: filename=fpdf-1.7.2-py2.py3-none-any.whl size=40713 sha256=74879c7f051da7c2ad5fe4058dbe7c0e2a972858d3e63ce9ce503f691dea51ab\n",
      "  Stored in directory: c:\\users\\gabri\\appdata\\local\\pip\\cache\\wheels\\65\\4f\\66\\bbda9866da446a72e206d6484cd97381cbc7859a7068541c36\n",
      "Successfully built fpdf\n",
      "Installing collected packages: fpdf\n",
      "Successfully installed fpdf-1.7.2\n"
     ]
    }
   ],
   "source": [
    "!pip install fpdf"
   ]
  },
  {
   "cell_type": "code",
   "execution_count": 20,
   "id": "69e714bf-a7ea-4852-8b15-9f46852d49c9",
   "metadata": {},
   "outputs": [],
   "source": [
    "from fpdf import FPDF"
   ]
  },
  {
   "cell_type": "code",
   "execution_count": 23,
   "id": "2fd2180f-de0c-49a5-aa01-8126101c8e2f",
   "metadata": {},
   "outputs": [
    {
     "name": "stdout",
     "output_type": "stream",
     "text": [
      "Orçamento gerado com sucesso!\n"
     ]
    }
   ],
   "source": [
    "pdf = FPDF()\n",
    "\n",
    "pdf.add_page()\n",
    "pdf.set_font(\"Arial\")\n",
    "\n",
    "pdf.image(\"template.png\", x=0, y=0)\n",
    "\n",
    "pdf.text(115, 145, projeto)\n",
    "pdf.text(115, 160, horasPrevistas)\n",
    "pdf.text(115, 175, valorHora)\n",
    "pdf.text(115, 190, prazo)\n",
    "pdf.text(115, 205, str(valorTotal))\n",
    "\n",
    "pdf.output(\"Orçamento.pdf\")\n",
    "\n",
    "print(\"Orçamento gerado com sucesso!\")"
   ]
  },
  {
   "cell_type": "code",
   "execution_count": null,
   "id": "9cf993b2-1d8c-454a-a0fc-8d7ca1c50cf5",
   "metadata": {},
   "outputs": [],
   "source": []
  },
  {
   "cell_type": "code",
   "execution_count": null,
   "id": "e9ba5585-91bd-459b-a53f-07c54aea499c",
   "metadata": {},
   "outputs": [],
   "source": []
  },
  {
   "cell_type": "code",
   "execution_count": null,
   "id": "fa03ef22-decb-4ce3-94d9-ca10ebc8eaab",
   "metadata": {},
   "outputs": [],
   "source": []
  },
  {
   "cell_type": "code",
   "execution_count": null,
   "id": "c5868fa0-c58a-4a1a-b7fc-2745871f2893",
   "metadata": {},
   "outputs": [],
   "source": []
  },
  {
   "cell_type": "code",
   "execution_count": null,
   "id": "8403fbfd-eea9-4be1-a632-61e73c76351a",
   "metadata": {},
   "outputs": [],
   "source": []
  },
  {
   "cell_type": "code",
   "execution_count": null,
   "id": "5cfca759-7ec7-42cb-a092-155d01b00468",
   "metadata": {},
   "outputs": [],
   "source": []
  },
  {
   "cell_type": "code",
   "execution_count": null,
   "id": "2cfc884b-e18c-4d1f-a03a-9af145586fd3",
   "metadata": {},
   "outputs": [],
   "source": []
  }
 ],
 "metadata": {
  "kernelspec": {
   "display_name": "Python 3 (ipykernel)",
   "language": "python",
   "name": "python3"
  },
  "language_info": {
   "codemirror_mode": {
    "name": "ipython",
    "version": 3
   },
   "file_extension": ".py",
   "mimetype": "text/x-python",
   "name": "python",
   "nbconvert_exporter": "python",
   "pygments_lexer": "ipython3",
   "version": "3.11.7"
  }
 },
 "nbformat": 4,
 "nbformat_minor": 5
}
